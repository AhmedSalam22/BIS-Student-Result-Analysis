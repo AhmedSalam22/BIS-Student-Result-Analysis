{
 "cells": [
  {
   "cell_type": "code",
   "execution_count": 1,
   "metadata": {},
   "outputs": [],
   "source": [
    "import pandas as pd\n",
    "import numpy as np"
   ]
  },
  {
   "cell_type": "code",
   "execution_count": 6,
   "metadata": {},
   "outputs": [],
   "source": [
    "df = pd.read_excel(\"result.xlsx\")"
   ]
  },
  {
   "cell_type": "code",
   "execution_count": 9,
   "metadata": {},
   "outputs": [
    {
     "data": {
      "text/html": [
       "<div>\n",
       "<style scoped>\n",
       "    .dataframe tbody tr th:only-of-type {\n",
       "        vertical-align: middle;\n",
       "    }\n",
       "\n",
       "    .dataframe tbody tr th {\n",
       "        vertical-align: top;\n",
       "    }\n",
       "\n",
       "    .dataframe thead th {\n",
       "        text-align: right;\n",
       "    }\n",
       "</style>\n",
       "<table border=\"1\" class=\"dataframe\">\n",
       "  <thead>\n",
       "    <tr style=\"text-align: right;\">\n",
       "      <th></th>\n",
       "      <th>ID</th>\n",
       "      <th>Name</th>\n",
       "      <th>Computer</th>\n",
       "      <th>Research</th>\n",
       "      <th>English</th>\n",
       "      <th>Statics</th>\n",
       "      <th>Management</th>\n",
       "      <th>Accounting</th>\n",
       "      <th>GPA</th>\n",
       "      <th>Human's Right</th>\n",
       "      <th>Math</th>\n",
       "      <th>Communication</th>\n",
       "      <th>OP</th>\n",
       "      <th>Ecocnomics</th>\n",
       "      <th>Law</th>\n",
       "      <th>Ethics</th>\n",
       "      <th>GPA2</th>\n",
       "      <th>GPA_LevelOne</th>\n",
       "    </tr>\n",
       "  </thead>\n",
       "  <tbody>\n",
       "    <tr>\n",
       "      <th>0</th>\n",
       "      <td>1001</td>\n",
       "      <td>ابانوب عادل سمير نجيب</td>\n",
       "      <td>A-</td>\n",
       "      <td>B-</td>\n",
       "      <td>F</td>\n",
       "      <td>B-</td>\n",
       "      <td>C</td>\n",
       "      <td>B-</td>\n",
       "      <td>2.21</td>\n",
       "      <td>A</td>\n",
       "      <td>A-</td>\n",
       "      <td>A-</td>\n",
       "      <td>B-</td>\n",
       "      <td>A</td>\n",
       "      <td>B+</td>\n",
       "      <td>A</td>\n",
       "      <td>3.58</td>\n",
       "      <td>2.895</td>\n",
       "    </tr>\n",
       "  </tbody>\n",
       "</table>\n",
       "</div>"
      ],
      "text/plain": [
       "     ID                    Name Computer Research English Statics Management  \\\n",
       "0  1001  ابانوب عادل سمير نجيب        A-       B-       F      B-          C   \n",
       "\n",
       "  Accounting   GPA Human's Right Math Communication  OP Ecocnomics Law Ethics  \\\n",
       "0         B-  2.21             A   A-            A-  B-          A  B+      A   \n",
       "\n",
       "   GPA2  GPA_LevelOne  \n",
       "0  3.58         2.895  "
      ]
     },
     "execution_count": 9,
     "metadata": {},
     "output_type": "execute_result"
    }
   ],
   "source": [
    "df.head(1)"
   ]
  },
  {
   "cell_type": "code",
   "execution_count": 26,
   "metadata": {},
   "outputs": [
    {
     "data": {
      "text/plain": [
       "A-     123\n",
       "A      120\n",
       "B+      66\n",
       "B       65\n",
       "B-      62\n",
       "C+      15\n",
       "C        6\n",
       "F        6\n",
       "0        3\n",
       "رذع      2\n",
       "C-       2\n",
       "Name: Computer, dtype: int64"
      ]
     },
     "execution_count": 26,
     "metadata": {},
     "output_type": "execute_result"
    }
   ],
   "source": [
    "df[\"Computer\"].value_counts()"
   ]
  },
  {
   "cell_type": "code",
   "execution_count": null,
   "metadata": {},
   "outputs": [],
   "source": []
  }
 ],
 "metadata": {
  "kernelspec": {
   "display_name": "Python 3",
   "language": "python",
   "name": "python3"
  },
  "language_info": {
   "codemirror_mode": {
    "name": "ipython",
    "version": 3
   },
   "file_extension": ".py",
   "mimetype": "text/x-python",
   "name": "python",
   "nbconvert_exporter": "python",
   "pygments_lexer": "ipython3",
   "version": "3.8.3"
  }
 },
 "nbformat": 4,
 "nbformat_minor": 4
}
